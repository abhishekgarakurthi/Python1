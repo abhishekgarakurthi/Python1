{
 "cells": [
  {
   "cell_type": "code",
   "execution_count": null,
   "metadata": {},
   "outputs": [],
   "source": [
    "x=10;\n",
    "y=12;\n",
    "if(x<y):\n",
    "    print('x is greater');\n",
    "else:\n",
    "   print('y is greater');\n",
    "    "
   ]
  },
  {
   "cell_type": "code",
   "execution_count": null,
   "metadata": {},
   "outputs": [],
   "source": [
    "x=5;\n",
    "y=6;\n",
    "if(x==y):\n",
    "   print(x*x);\n",
    "else:\n",
    "   print(x*y);\n"
   ]
  },
  {
   "cell_type": "code",
   "execution_count": null,
   "metadata": {},
   "outputs": [],
   "source": [
    "x=0;\n",
    "if(x<0):\n",
    "    print(\"It's Negative number\");\n",
    "elif(x>0):\n",
    "    printf(\"It's Positive number\")\n",
    "elif(x==0):\n",
    "    print(\"It's Zero\")"
   ]
  },
  {
   "cell_type": "markdown",
   "metadata": {},
   "source": [
    "# loop statement--while"
   ]
  },
  {
   "cell_type": "code",
   "execution_count": null,
   "metadata": {},
   "outputs": [],
   "source": [
    "n=1;\n",
    "while(n<=10):\n",
    " print(n);\n",
    " n=n+1;"
   ]
  },
  {
   "cell_type": "code",
   "execution_count": null,
   "metadata": {},
   "outputs": [],
   "source": [
    "n=10;\n",
    "while(n>=1):\n",
    "    print(n);\n",
    "    n=n-1;"
   ]
  },
  {
   "cell_type": "code",
   "execution_count": null,
   "metadata": {},
   "outputs": [],
   "source": [
    "n = -22\n",
    "while(n>=-45):\n",
    "    print(n)\n",
    "    n = n-1\n",
    "print(n)"
   ]
  },
  {
   "cell_type": "code",
   "execution_count": null,
   "metadata": {},
   "outputs": [],
   "source": [
    "x= int(input('Enter lower limit'));\n",
    "y= int(input('Enter upper limit'));\n",
    "sum=0;\n",
    "while(x!=y):\n",
    "    if(x%2==0):\n",
    "        sum=sum+x;\n",
    "    x=x+1;\n",
    "print(sum)\n",
    "    "
   ]
  },
  {
   "cell_type": "code",
   "execution_count": null,
   "metadata": {},
   "outputs": [],
   "source": [
    "x=int(input(\"Enter a number\"));\n",
    "while(x!=0):\n",
    "    r=x%10;\n",
    "    print(r);\n",
    "    x=x//10;"
   ]
  },
  {
   "cell_type": "code",
   "execution_count": 3,
   "metadata": {},
   "outputs": [
    {
     "name": "stdout",
     "output_type": "stream",
     "text": [
      "Enter a number453\n",
      "Three\n",
      "Five\n",
      "Four\n"
     ]
    }
   ],
   "source": [
    "x=int(input(\"Enter a number\"));\n",
    "while(x!=0):\n",
    "    r=x%10;\n",
    "    if(r==0):\n",
    "        print('Zero')\n",
    "    elif(r==1):\n",
    "        print('one')\n",
    "    elif(r==2):\n",
    "        print('Two')\n",
    "    elif(r==3):\n",
    "        print('Three')\n",
    "    elif(r==4):\n",
    "        print('Four')\n",
    "    elif(r==5):\n",
    "        print('Five')\n",
    "    elif(r==6):\n",
    "        print('Six')\n",
    "    elif(r==7):\n",
    "        print('Seven')\n",
    "    elif(r==8):\n",
    "        print('Eight')\n",
    "    elif(r==9):\n",
    "        print('Nine')\n",
    "    x=x//10"
   ]
  },
  {
   "cell_type": "code",
   "execution_count": null,
   "metadata": {},
   "outputs": [],
   "source": []
  }
 ],
 "metadata": {
  "kernelspec": {
   "display_name": "Python 3",
   "language": "python",
   "name": "python3"
  }
 },
 "nbformat": 4,
 "nbformat_minor": 2
}
