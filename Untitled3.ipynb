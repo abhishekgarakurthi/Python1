{
 "cells": [
  {
   "cell_type": "code",
   "execution_count": 1,
   "metadata": {},
   "outputs": [
    {
     "name": "stdout",
     "output_type": "stream",
     "text": [
      "0.2222222222222222\n"
     ]
    }
   ],
   "source": [
    "x=2\n",
    "res=x/9\n",
    "print(res)"
   ]
  },
  {
   "cell_type": "code",
   "execution_count": 2,
   "metadata": {},
   "outputs": [
    {
     "name": "stdout",
     "output_type": "stream",
     "text": [
      "2.2222222222222223\n"
     ]
    }
   ],
   "source": [
    "x=20\n",
    "res=x/9\n",
    "print(res)"
   ]
  },
  {
   "cell_type": "code",
   "execution_count": 3,
   "metadata": {},
   "outputs": [
    {
     "name": "stdout",
     "output_type": "stream",
     "text": [
      "90\n"
     ]
    }
   ],
   "source": [
    "def printEven(n):\n",
    "    cnt=0;\n",
    "    sum=0;\n",
    "    while(cnt!=n):\n",
    "        if(cnt%2==0):\n",
    "            sum=sum+cnt;\n",
    "        cnt=cnt+1;\n",
    "    return sum;\n",
    "print(printEven(20));"
   ]
  },
  {
   "cell_type": "code",
   "execution_count": 7,
   "metadata": {},
   "outputs": [
    {
     "name": "stdout",
     "output_type": "stream",
     "text": [
      "1 2 3 4 6 "
     ]
    }
   ],
   "source": [
    "def factorslist(n):\n",
    "    i=1;\n",
    "    while(i!=n):\n",
    "        if(n%i==0):\n",
    "            print(i,end=\" \");\n",
    "        i=i+1;\n",
    "    return;\n",
    "\n",
    "factorslist(12);"
   ]
  },
  {
   "cell_type": "code",
   "execution_count": 8,
   "metadata": {},
   "outputs": [
    {
     "name": "stdout",
     "output_type": "stream",
     "text": [
      "[1, 2, 3, 4, 5]\n",
      "1\n"
     ]
    }
   ],
   "source": [
    "list1=[1,2,3,4,5];\n",
    "#Enter List\n",
    "print(list1);\n",
    "#list[0]\n",
    "print(list1[0])"
   ]
  },
  {
   "cell_type": "code",
   "execution_count": 9,
   "metadata": {},
   "outputs": [
    {
     "name": "stdout",
     "output_type": "stream",
     "text": [
      "sdds yqdgyu uehfuiq nwokmv "
     ]
    }
   ],
   "source": [
    "list2=[\"sdds\",\"yqdgyu\",\"uehfuiq\",\"nwokmv\"];\n",
    "for x in list2:\n",
    "    print(x,end=\" \")"
   ]
  },
  {
   "cell_type": "code",
   "execution_count": 13,
   "metadata": {
    "scrolled": true
   },
   "outputs": [
    {
     "name": "stdout",
     "output_type": "stream",
     "text": [
      "1 2 3 4 5 6 7 \n",
      "5\n",
      "[4, 5, 6, 7]\n",
      "[1, 2, 3]\n",
      "[1, 2, 3]\n",
      "[1, 2, 3, 4, 5, 6, 7]\n"
     ]
    }
   ],
   "source": [
    "lst1=[1,2,3,4,5,6,7]\n",
    "for x in lst1:\n",
    "    print(x,end=\" \")\n",
    "    \n",
    "print();\n",
    "print(lst1[4]);\n",
    "print(lst1[3:7]);\n",
    "print(lst1[0:3]);\n",
    "print(lst1[:3]);\n",
    "print(lst1[:7]);"
   ]
  },
  {
   "cell_type": "code",
   "execution_count": 22,
   "metadata": {},
   "outputs": [
    {
     "name": "stdout",
     "output_type": "stream",
     "text": [
      "1 2 3 4 5 6 7 8 9 10 \n",
      "[2, 3, 4, 5, 6, 7, 8, 9]\n",
      "[3, 4, 5, 6, 7, 8]\n",
      "[4, 5, 6, 7]\n",
      "[1, 3, 5, 7, 9]\n",
      "[1, 4, 7, 10]\n",
      "[1, 5, 9]\n",
      "[10, 8, 6, 4, 2]\n",
      "[1, 6]\n"
     ]
    }
   ],
   "source": [
    "lst1=[1,2,3,4,5,6,7,8,9,10]\n",
    "for x in lst1:\n",
    "    print(x,end=\" \")\n",
    "    \n",
    "print();\n",
    "print(lst1[1:-1]);\n",
    "print(lst1[2:-2])\n",
    "print(lst1[3:-3])\n",
    "print(lst1[::2])\n",
    "print(lst1[::3])\n",
    "print(lst1[::4])\n",
    "print(lst1[::-2])\n",
    "print(lst1[::5])"
   ]
  },
  {
   "cell_type": "code",
   "execution_count": 23,
   "metadata": {},
   "outputs": [
    {
     "name": "stdout",
     "output_type": "stream",
     "text": [
      "['ngni', 'siis', 'isjism', 1]\n",
      "['ngni', 'siis', 15, 1]\n",
      "['ngni', 'siis', 15]\n",
      "['ngni', 'Gitam', 15]\n",
      "[1, 2, 3]\n",
      "['ngni', 'Gitam', 15, 1, 2, 3]\n"
     ]
    }
   ],
   "source": [
    "lst1=[\"ngni\",\"siis\",\"isjism\",1]\n",
    "print(lst1)\n",
    "lst1[2]=15;\n",
    "print(lst1)\n",
    "del lst1[3];\n",
    "print(lst1)\n",
    "lst1[1]=\"Gitam\"\n",
    "print(lst1)\n",
    "lst2=[1,2,3]\n",
    "print(lst2);\n",
    "print(lst1+lst2);"
   ]
  },
  {
   "cell_type": "code",
   "execution_count": 28,
   "metadata": {},
   "outputs": [
    {
     "name": "stdout",
     "output_type": "stream",
     "text": [
      "['Gitam', 'python', 'raptor', 1, 5, 'python']\n",
      "6\n",
      "['Gitam', 'python', 2019, 'raptor', 1, 5, 'python']\n"
     ]
    }
   ],
   "source": [
    "lst1=[\"Gitam\",\"python\",\"raptor\",1,5,\"python\"]\n",
    "print(lst1)\n",
    "lst1.index(\"python\")\n",
    "lst.index(1)\n",
    "print(len(lst1))\n",
    "lst1.insert(2,2019)\n",
    "print(lst1)\n"
   ]
  },
  {
   "cell_type": "code",
   "execution_count": 31,
   "metadata": {},
   "outputs": [
    {
     "name": "stdout",
     "output_type": "stream",
     "text": [
      "['Gitam', 'Python', 'Raptor', 1, 5, 'Python']\n",
      "['Gitam', 'Raptor', 1, 5, 'Python']\n",
      "['Gitam', 'Raptor', 1, 5]\n",
      "[5, 1, 'Raptor', 'Gitam']\n"
     ]
    }
   ],
   "source": [
    "lst1=[\"Gitam\",\"Python\",\"Raptor\",1,5,\"Python\"]\n",
    "print(lst1)\n",
    "lst1.remove(\"Python\")\n",
    "print(lst1)\n",
    "lst1.remove(\"Python\")\n",
    "print(lst1)\n",
    "\n",
    "lst1.reverse()\n",
    "print(lst1)"
   ]
  },
  {
   "cell_type": "code",
   "execution_count": 37,
   "metadata": {},
   "outputs": [
    {
     "name": "stdout",
     "output_type": "stream",
     "text": [
      "Target item found\n"
     ]
    }
   ],
   "source": [
    "def linearsearch(a,tarItem):\n",
    "    flag=0;\n",
    "    for i in range(len(a)):\n",
    "        if a[i]==tarItem:\n",
    "            flag=1;\n",
    "            break\n",
    "    if(flag!=0):\n",
    "        print(\"Target item found\")\n",
    "    else:\n",
    "        print(\"Target item not found\")\n",
    "            \n",
    "a=[16,2,3,12,6,9,7,1]\n",
    "linearsearch(a,16)  "
   ]
  },
  {
   "cell_type": "code",
   "execution_count": 39,
   "metadata": {
    "collapsed": true
   },
   "outputs": [
    {
     "ename": "NameError",
     "evalue": "name 'tarItem' is not defined",
     "output_type": "error",
     "traceback": [
      "\u001b[1;31m---------------------------------------------------------------------------\u001b[0m",
      "\u001b[1;31mNameError\u001b[0m                                 Traceback (most recent call last)",
      "\u001b[1;32m<ipython-input-39-31e0b9c46e8d>\u001b[0m in \u001b[0;36m<module>\u001b[1;34m\u001b[0m\n\u001b[0;32m      7\u001b[0m     \u001b[0mprint\u001b[0m\u001b[1;33m(\u001b[0m\u001b[0mflag\u001b[0m\u001b[1;33m)\u001b[0m\u001b[1;33m\u001b[0m\u001b[1;33m\u001b[0m\u001b[0m\n\u001b[0;32m      8\u001b[0m \u001b[0ma\u001b[0m\u001b[1;33m=\u001b[0m\u001b[1;33m[\u001b[0m\u001b[1;36m9\u001b[0m\u001b[1;33m,\u001b[0m\u001b[1;36m2\u001b[0m\u001b[1;33m,\u001b[0m\u001b[1;36m44\u001b[0m\u001b[1;33m,\u001b[0m\u001b[1;36m34\u001b[0m\u001b[1;33m,\u001b[0m\u001b[1;36m14\u001b[0m\u001b[1;33m,\u001b[0m\u001b[1;36m18\u001b[0m\u001b[1;33m,\u001b[0m\u001b[1;36m2\u001b[0m\u001b[1;33m,\u001b[0m\u001b[1;36m9\u001b[0m\u001b[1;33m]\u001b[0m\u001b[1;33m\u001b[0m\u001b[1;33m\u001b[0m\u001b[0m\n\u001b[1;32m----> 9\u001b[1;33m \u001b[0mlinersearchDuplicate\u001b[0m\u001b[1;33m(\u001b[0m\u001b[0ma\u001b[0m\u001b[1;33m,\u001b[0m\u001b[1;36m9\u001b[0m\u001b[1;33m)\u001b[0m\u001b[1;33m\u001b[0m\u001b[1;33m\u001b[0m\u001b[0m\n\u001b[0m",
      "\u001b[1;32m<ipython-input-39-31e0b9c46e8d>\u001b[0m in \u001b[0;36mlinersearchDuplicate\u001b[1;34m(a, taritem)\u001b[0m\n\u001b[0;32m      2\u001b[0m     \u001b[0mflag\u001b[0m\u001b[1;33m=\u001b[0m\u001b[1;36m0\u001b[0m\u001b[1;33m\u001b[0m\u001b[1;33m\u001b[0m\u001b[0m\n\u001b[0;32m      3\u001b[0m     \u001b[1;32mfor\u001b[0m \u001b[0mi\u001b[0m \u001b[1;32min\u001b[0m \u001b[0mrange\u001b[0m\u001b[1;33m(\u001b[0m\u001b[0mlen\u001b[0m\u001b[1;33m(\u001b[0m\u001b[0ma\u001b[0m\u001b[1;33m)\u001b[0m\u001b[1;33m)\u001b[0m\u001b[1;33m:\u001b[0m\u001b[1;33m\u001b[0m\u001b[1;33m\u001b[0m\u001b[0m\n\u001b[1;32m----> 4\u001b[1;33m         \u001b[1;32mif\u001b[0m \u001b[0ma\u001b[0m\u001b[1;33m[\u001b[0m\u001b[0mi\u001b[0m\u001b[1;33m]\u001b[0m\u001b[1;33m==\u001b[0m\u001b[0mtarItem\u001b[0m\u001b[1;33m:\u001b[0m\u001b[1;33m\u001b[0m\u001b[1;33m\u001b[0m\u001b[0m\n\u001b[0m\u001b[0;32m      5\u001b[0m             \u001b[0mflag\u001b[0m\u001b[1;33m=\u001b[0m\u001b[1;36m1\u001b[0m\u001b[1;33m\u001b[0m\u001b[1;33m\u001b[0m\u001b[0m\n\u001b[0;32m      6\u001b[0m             \u001b[1;32mbreak\u001b[0m\u001b[1;33m\u001b[0m\u001b[1;33m\u001b[0m\u001b[0m\n",
      "\u001b[1;31mNameError\u001b[0m: name 'tarItem' is not defined"
     ]
    }
   ],
   "source": [
    "def linersearchDuplicate(a,taritem):\n",
    "    flag=0\n",
    "    for i in range(len(a)):\n",
    "        if a[i]==tarItem:\n",
    "            flag=1\n",
    "            break\n",
    "    print(flag)\n",
    "a=[9,2,44,34,14,18,2,9]\n",
    "linersearchDuplicate(a,9)"
   ]
  },
  {
   "cell_type": "code",
   "execution_count": null,
   "metadata": {},
   "outputs": [],
   "source": [
    "def linearExample3(a):\n",
    "    sum=0;\n",
    "    for i in range(len(a)):\n",
    "        if a[i]%3==0 and a[i]%5==0:\n",
    "            "
   ]
  }
 ],
 "metadata": {
  "kernelspec": {
   "display_name": "Python 3",
   "language": "python",
   "name": "python3"
  },
  "language_info": {
   "codemirror_mode": {
    "name": "ipython",
    "version": 3
   },
   "file_extension": ".py",
   "mimetype": "text/x-python",
   "name": "python",
   "nbconvert_exporter": "python",
   "pygments_lexer": "ipython3",
   "version": "3.7.3"
  }
 },
 "nbformat": 4,
 "nbformat_minor": 2
}
