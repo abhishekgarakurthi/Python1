{
 "cells": [
  {
   "cell_type": "code",
   "execution_count": 1,
   "metadata": {},
   "outputs": [
    {
     "name": "stdout",
     "output_type": "stream",
     "text": [
      "found\n"
     ]
    }
   ],
   "source": [
    "  def binary_search(a,ele):\n",
    "    low = 0\n",
    "    high = len(a) - 1\n",
    "    flag = 0\n",
    "    while low<=high:    \n",
    "        mid = (low + high)//2\n",
    "        if a[mid]==ele:\n",
    "            flag = 1\n",
    "            break\n",
    "        elif a[mid]>ele:\n",
    "            high = mid-1\n",
    "        else:\n",
    "            low = mid+1\n",
    "    if flag == 1:\n",
    "        print(\"found\")\n",
    "    else:\n",
    "        print(\"not found\")\n",
    "a= [1,21,34,56,75,90,98]\n",
    "binary_search(a,98)\n"
   ]
  },
  {
   "cell_type": "code",
   "execution_count": 4,
   "metadata": {},
   "outputs": [
    {
     "name": "stdout",
     "output_type": "stream",
     "text": [
      "1 3 6 18 19 25 "
     ]
    }
   ],
   "source": [
    "def bubblesort(a):\n",
    "    for i in range(len(a)-1):\n",
    "        for j in range(len(a)-1):\n",
    "            if a[j]>a[j+1]:\n",
    "                a[j],a[j+1]=a[j+1],a[j]\n",
    "                \n",
    "    for i in range(len(a)):\n",
    "        print(a[i],end=\" \")\n",
    "        \n",
    "lst1=[19,1,25,6,18,3]\n",
    "bubblesort(lst1)"
   ]
  },
  {
   "cell_type": "code",
   "execution_count": 2,
   "metadata": {},
   "outputs": [
    {
     "data": {
      "text/plain": [
       "26"
      ]
     },
     "execution_count": 2,
     "metadata": {},
     "output_type": "execute_result"
    }
   ],
   "source": [
    "def sumofdigits(str):\n",
    "    sum=0\n",
    "    lst=list(str)\n",
    "    for x in range(len(lst)):\n",
    "        if ord(lst[x]) >=48 and ord(lst[x]) <=57:\n",
    "            sum=sum+ord(lst[x])-48;\n",
    "            \n",
    "    return sum\n",
    "sumofdigits(\"application1889\")"
   ]
  },
  {
   "cell_type": "code",
   "execution_count": null,
   "metadata": {},
   "outputs": [],
   "source": []
  }
 ],
 "metadata": {
  "kernelspec": {
   "display_name": "Python 3",
   "language": "python",
   "name": "python3"
  },
  "language_info": {
   "codemirror_mode": {
    "name": "ipython",
    "version": 3
   },
   "file_extension": ".py",
   "mimetype": "text/x-python",
   "name": "python",
   "nbconvert_exporter": "python",
   "pygments_lexer": "ipython3",
   "version": "3.7.3"
  }
 },
 "nbformat": 4,
 "nbformat_minor": 2
}
